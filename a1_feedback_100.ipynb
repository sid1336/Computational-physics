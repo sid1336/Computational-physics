{
  "cells": [
    {
      "cell_type": "markdown",
      "metadata": {
        "id": "view-in-github",
        "colab_type": "text"
      },
      "source": [
        "<a href=\"https://colab.research.google.com/github/sid1336/Computational-physics/blob/main/a1_feedback_100.ipynb\" target=\"_parent\"><img src=\"https://colab.research.google.com/assets/colab-badge.svg\" alt=\"Open In Colab\"/></a>"
      ]
    },
    {
      "cell_type": "markdown",
      "metadata": {
        "id": "MoNtlttdgq-R"
      },
      "source": [
        "Utkarsh Sachdeva\n",
        "<br>\n",
        "Due date: Jan. 16, 2024, 11:59pm\n",
        "<br>\n",
        "PHYS 2030 W24"
      ]
    },
    {
      "cell_type": "markdown",
      "metadata": {
        "id": "WOX3ZzMlgq-U"
      },
      "source": [
        "## <center><font color=#46769B>Homework assignment 1</font></center>\n",
        "\n",
        "__Rubric (100 points total)__:\n",
        "\n",
        "- Problem 1 - __25 points__\n",
        "     \n",
        "- Problem 2 - __25 points__\n",
        "\n",
        "- Problem 3 - __25 points__\n",
        "     \n",
        "- Problem 4 - __25 points__"
      ]
    },
    {
      "cell_type": "markdown",
      "metadata": {
        "id": "ZDqhb5J3gq-U"
      },
      "source": [
        "## <font color=#46769B>Introduction:</font>\n",
        "\n",
        "Required reading:\n",
        "- *Lesson 1: Introduction to Monte Carlo sampling*\n",
        "- *Lesson 2: Normal distributions*\n",
        "</font>"
      ]
    },
    {
      "cell_type": "markdown",
      "metadata": {
        "id": "HGySCTZjgq-V"
      },
      "source": [
        "## <font color=#46769B>Problem 1: Area of a circle revisited, error on $\\pi$</font>\n",
        "\n",
        "We return to computing the $\\pi$ from our Monte Carlo simulation in Exercise 1.\n",
        "You noticed that your answer was close to the accepted value for $\\pi$, but was not exact and changes each time you run your code. This is a fact of life for Monte Carlo simulations: it is inherently random.\n",
        "\n",
        "Suppose you want to calculate $\\pi$ to within an accuracy of $0.001$. The simple way to approach it is to simply increase $N$, rerunning your code over and over again until you notice the numbers are jumping around less than the desired accuracy.\n",
        "\n",
        "Here we will follow a better and more quantitative approach in which we calculate the uncertainty on our result *directly from our sample* as the __standard error of the mean__. Then, we simply choose a suitably large $N$ so that the standard error of the mean falls below the desired level.\n",
        "\n",
        "Let's introduce a new variable $z$, which will make the connection with the standard error of the mean (hopefully) more clear. We define $z$ as follows:\n",
        "- $z = 1$ if point $x,y$ is within the unit circle\n",
        "- $z = 0$ if point $x,y$ is outside the unit circle\n",
        "\n",
        "Note that $p$ is the probability that $z=1$ (inside the circle) and $1-p$ is the probability that $z=0$ (outside the circle). That is, $z$ is has a Bernoulli PDF, just like flipping a coin:\n",
        "\n",
        "$$P(z) = \\left\\{ \\begin{array}{cc} p & z = 1 \\\\ 1-p & z = 0 \\end{array}\\right. \\, .$$\n",
        "\n",
        "(In the lecture notes, we wrote this distribution as $P(x)$. Here the variable $x$ is position in the $x$ direction, so we need a new variable name for the outcome of each \"coin flip.\")\n",
        "\n",
        "What we calculated before as $N_{\\rm in}/N$ is simply the mean of $z$:\n",
        "\n",
        "$$ \\langle z \\rangle = \\frac{N_{\\rm in}}{N} \\xrightarrow{N \\to \\infty} \\bar{z} = p$$\n",
        "\n",
        "We can also calculate the variance $\\Delta z$ and the standard error of the mean $E_z = \\Delta z/\\sqrt{N}$.\n",
        "\n",
        "Now, our estimate for $\\pi$ is\n",
        "\n",
        "$$\\pi \\approx 4 \\langle z \\rangle \\, ,$$\n",
        "\n",
        "So the standard error of the mean of $\\pi$ is simply four times the standard error of the mean of $z$:\n",
        "\n",
        "$$E_\\pi = 4 E_z = 4 \\frac{\\Delta z}{\\sqrt{N}} \\, .$$\n",
        "\n",
        "Define a function `estimate_pi(num)` that does the following:\n",
        "- Generates `num` samples for $x$ and $y$ from a uniform distribution, as in Part (a). (Here `num` is the number of samples $N$.)\n",
        "- From your samples for $x,y$, obtain samples for $z$. (That is, from each sample $x_i,y_i$, you decide if $z_i$ is $1$ or $0$.)\n",
        "- Calculate the mean, standard deviation, and standard error of the mean for $z$.\n",
        "- Returns your estimate for $\\pi$ and the error $E_\\pi$.\n",
        "\n",
        "Evaluate your function and print your results $\\pi$ and $E_\\pi$, with a suitable value of $N$ such that $E_\\pi$ is below $0.001$."
      ]
    },
    {
      "cell_type": "code",
      "execution_count": null,
      "metadata": {
        "colab": {
          "base_uri": "https://localhost:8080/"
        },
        "id": "YTdVtnLdgq-V",
        "outputId": "f2784d10-4961-4013-decd-990132ed7ce9"
      },
      "outputs": [
        {
          "output_type": "stream",
          "name": "stdout",
          "text": [
            "Estimated value of pi: 3.141886\n",
            "Error in estimation (standard error): 0.0005192394787575381\n"
          ]
        }
      ],
      "source": [
        "import numpy as np\n",
        "\n",
        "def estimate_pi(num):\n",
        "    N_in = 0\n",
        "    z_values = []\n",
        "\n",
        "    for i in range(num):\n",
        "        x = np.random.uniform(-1, 1)\n",
        "        y = np.random.uniform(-1, 1)\n",
        "        if x**2 + y**2 < 1:\n",
        "            N_in += 1\n",
        "            z_values.append(1)\n",
        "        else:\n",
        "            z_values.append(0)\n",
        "    mean_z = np.mean(z_values)\n",
        "    std_dev_z = np.std(z_values)\n",
        "    std_err_mean_z = std_dev_z / np.sqrt(num)\n",
        "    pi_estimate = 4 * mean_z\n",
        "    pi_std_err = 4 * std_err_mean_z\n",
        "\n",
        "    return pi_estimate, pi_std_err\n",
        "\n",
        "pi_result, pi_error = estimate_pi(10000000)\n",
        "print(\"Estimated value of pi:\", pi_result)\n",
        "print(\"Error in estimation (standard error):\", pi_error)\n",
        "\n"
      ]
    },
    {
      "cell_type": "markdown",
      "metadata": {
        "id": "qlW0t_Kagq-X"
      },
      "source": [
        "## <font color=#46769B>Problem 2: Buffon's needle experiment for estimating $\\pi$</font>\n",
        "\n",
        "__Buffon's needle__ is another classic problem in Monte Carlo sampling, originally posed by the 18th century naturalist and mathematician George-Louis Leclerc. The problem is as follows:\n",
        "> Suppose you drop needles of length $\\ell$ at random onto a floor that has a series of equidistant parallel lines, with separation distance $d$. Provided $\\ell \\le d$, the probability that a needle will cross a line on the floor is\n",
        "\n",
        "$$p = \\frac{2\\ell}{\\pi d} \\, . \\qquad {\\rm (1)} $$\n",
        "\n",
        "We will *not* prove this result analytically. (Proofs can be found online for the curious reader.)\n",
        "\n",
        "<img src=\"https://mathworld.wolfram.com/images/eps-svg/BuffonNeedle_700.svg\" width=350px>\n",
        "\n",
        "[Figure credit: Wolfram Mathworld](https://mathworld.wolfram.com/BuffonsNeedleProblem.html)\n",
        "\n",
        "Here we will use this result to calculate $\\pi$ using a Monte Carlo simulation with $N$ total needles dropped. For simplicity, we will set $\\ell = d = 1$. By counting the number of needles that cross a line, $N_{\\rm cross}$, the probability $p$ is approximately $N_{\\rm cross}/N$ in the limit that $N$ is large. Therefore, rearranging Eq. (1), we have\n",
        "\n",
        "$$\\pi \\approx \\frac{2 N}{N_{\\rm cross}} \\, . \\qquad {\\rm (2)} $$\n",
        "\n",
        "Now, how do we simulate dropping a needle? Let's give some hints. Consider the figure below, showing a needle (thick black line) dropped near lines at $x=0$ and $x=1$.\n",
        "\n",
        "<img src=\"https://drive.google.com/uc?export=view&id=1zV1emttZcLRRVRu6T4yt4vorjyzAjmcZ\" width=350px>\n",
        "\n",
        "First, let $(x_1,y_1)$ be the position of one side. The figure below assumes that $0 < x_1 < 1$. In fact, this is the most general case we need to consider. Since $x_1$ will be between *some* pair of lines, we are free to label those two lines $x=0$ and $x=1$.\n",
        "\n",
        "Next, let $(x_2,y_2)$ be the position of the other side. Using some trigonometry\n",
        "\n",
        "$$(x_2,y_2) = (x_1 + \\cos\\theta, \\, y_1 + \\sin\\theta)\\, .$$\n",
        "\n",
        "Now, depending on the angle $\\theta$, we can have a line crossing or not. There is no line crossing if $0 < x_2 < 1$, while on the other hand there is a line crossing if $x_2 < 0$ or $x_2 > 1$.\n",
        "\n",
        "The needle can have any orientation, so any angle $\\theta$ is allowed. Since we expect all orientations to be equally likely, we should sample $\\theta$ from a uniform distribution.\n",
        "\n",
        "Lastly, $y_1$ and $y_2$ are irrelevant, since we don't need to know them.\n",
        "\n",
        "Now, let's summarize how to implement the sampling.\n",
        "- Generate $N$ samples for $x_1$ from a uniform distribution between $0$ and $1$. (We may as well call $x_1$ as just $x$ here, and drop the extra subscript.)\n",
        "- Generate $N$ samples for $\\theta$ from a uniform distribution between $0$ and $2\\pi$.\n",
        "- For each sample $x_i$ and $\\theta_i$, check whether a line crossing has occurred: either\n",
        "\n",
        "$$ x_i + \\cos\\theta_i < 0 \\quad {\\rm or} \\quad x_i + \\cos\\theta_i > 1$$\n",
        "\n",
        "- Count the number of samples with a line crossing $N_{\\rm cross}$.\n",
        "- Calculate $\\pi$ from Eq. (3)\n",
        "\n",
        "Your task is to write a code implementing the above steps, for $N=10^3$."
      ]
    },
    {
      "cell_type": "code",
      "execution_count": null,
      "metadata": {
        "colab": {
          "base_uri": "https://localhost:8080/"
        },
        "id": "hnQfXsl0gq-X",
        "outputId": "1cc74b9a-ef26-499d-cb10-11ad8b98db37"
      },
      "outputs": [
        {
          "output_type": "stream",
          "name": "stdout",
          "text": [
            "Estimated value of pi: 3.10077519379845\n"
          ]
        }
      ],
      "source": [
        "import numpy as np\n",
        "\n",
        "def buffon_needle_experiment(num):\n",
        "    x_values = np.random.uniform(0, 1, num)\n",
        "    theta_values = np.random.uniform(0, 2 * np.pi, num)\n",
        "    N_cross = sum((x_values + np.cos(theta_values) < 0) | (x_values + np.cos(theta_values) > 1))\n",
        "    pi_estimate = (2 * num) / N_cross\n",
        "\n",
        "    return pi_estimate\n",
        "\n",
        "\n",
        "num = 1000\n",
        "pi_result = buffon_needle_experiment(num)\n",
        "\n",
        "\n",
        "print(f\"Estimated value of pi: {pi_result}\")\n"
      ]
    },
    {
      "cell_type": "markdown",
      "metadata": {
        "id": "B-EoWWlOgq-X"
      },
      "source": [
        "## <font color=#46769B>Problem 3: Buffon's needle continued, error on $\\pi$</font>\n",
        "\n",
        "Write a function `drop_needles(num)` that does the sampling you performed in Problem 2 and returns both $\\pi$ and $E_\\pi$, the error for $\\pi$. Here the input `num` is $N$, the number of samples in your simulation, i.e., the number of needles dropped in the Buffon needle experiment.\n",
        "\n",
        "Suppose we want to calculate $\\pi$ to within an accuracy of $0.001$. What value of $N$ is required?\n",
        "\n",
        "Hint: Let's follow a similar logic to Problem 1 above. We introduce a discrete variable $z$ that is either $z=1$ if the needle crosses a line, or $z=0$ if there is no crossing. Then we can calculate $\\pi$ from the mean value of $z$, from Eq. (2):\n",
        "\n",
        "$$\\pi \\approx \\frac{2}{\\langle z \\rangle} \\, . \\qquad (3)$$\n",
        "\n",
        "The standard error on the mean of $z$ is calculated in the usual way\n",
        "\n",
        "$$E_z = \\frac{\\Delta z}{\\sqrt{N}} \\, .$$\n",
        "\n",
        "Finally, we can calculate the error $E_\\pi$ from the following formula\n",
        "\n",
        "$$E_\\pi = \\frac{2 E_z}{\\langle z \\rangle^2} \\, . \\qquad (4)$$\n",
        "\n",
        "To summarize, the task of your function is as follows:\n",
        "- Generate $N$ samples for $x$ and $\\theta$, as in Part (a).\n",
        "- Use these samples to calculate the samples for $z$ (similar to Exercise 1).\n",
        "- Calculate the mean and standard error of the mean of $z$.\n",
        "- Return $\\pi$ and $E_\\pi$, using Eqs. (3) and (4).\n",
        "\n",
        "Note to the curious reader: Where did Eq. (4) come from? It may look mysterious, but it follows from a topic in statistics known as __propagation of uncertainties__, a topic which we are going to come back to. Here let's provide a quick proof of Eq. (4).\n",
        "\n",
        "The question is: how the error on $\\langle z \\rangle$, $E_z$, impact $\\pi$? We quantify this by asking: what happens to $\\pi$ if we perturb $\\langle z \\rangle$ by its error $\\pm E_z$? Shifting $\\langle z \\rangle \\to \\langle z \\rangle \\pm E_z$, we have\n",
        "\n",
        "$$\\pi = \\frac{2}{\\langle z \\rangle} \\longrightarrow \\frac{2}{\\langle z \\rangle \\pm E_z}\n",
        "= \\frac{2}{\\langle z \\rangle} \\times \\left(1 \\pm \\frac{E_z}{\\langle z\\rangle} \\right)^{-1}$$\n",
        "\n",
        "Now, we can use an approximation that you may recall from your calculus course, $(1+a)^n \\approx 1 + n a$, if $a$ is a small number ($a \\ll 1$). Here $a$ is $\\pm E_z/\\langle z \\rangle$ and $n=-1$. Then the above line becomes\n",
        "\n",
        "$$\\pi = \\frac{2}{\\langle z \\rangle} \\longrightarrow \\frac{2}{\\langle z\\rangle} \\mp \\left(\\frac{2E_z}{\\langle z\\rangle^2}\\right) = \\pi \\mp \\left(\\frac{2E_z}{\\langle z\\rangle^2}\\right) \\, .$$\n",
        "\n",
        "The factor in parentheses is the error $E_\\pi$, as in Eq. (4).\n"
      ]
    },
    {
      "cell_type": "code",
      "execution_count": null,
      "metadata": {
        "colab": {
          "base_uri": "https://localhost:8080/"
        },
        "id": "3vowF2ADgq-Y",
        "outputId": "b2ec2948-b285-452a-f4a5-ce3e4249d2a0"
      },
      "outputs": [
        {
          "output_type": "stream",
          "name": "stdout",
          "text": [
            "Estimated value of pi: 3.142950421135713\n",
            "Error in estimation (standard error): 0.0009621020926023136\n",
            "Number of samples required: 4000000\n"
          ]
        }
      ],
      "source": [
        "import numpy as np\n",
        "\n",
        "def drop_needles(num):\n",
        "    x_values = np.random.uniform(0, 1, num)\n",
        "    theta_values = np.random.uniform(0, 2 * np.pi, num)\n",
        "\n",
        "    z_values = (x_values + np.cos(theta_values) < 0) | (x_values + np.cos(theta_values) > 1)\n",
        "\n",
        "    pi_estimate = (2 * num) / np.sum(z_values)\n",
        "    pi_error = 4 * np.std(z_values) / np.sqrt(num)\n",
        "\n",
        "    return pi_estimate, pi_error\n",
        "\n",
        "desired_accuracy = 0.001\n",
        "N = 1000000\n",
        "\n",
        "while True:\n",
        "    pi_estimate, pi_error = drop_needles(N)\n",
        "    if pi_error < desired_accuracy:\n",
        "        break\n",
        "    N += 1000000\n",
        "\n",
        "print(f\"Estimated value of pi: {pi_estimate}\")\n",
        "print(f\"Error in estimation (standard error): {pi_error}\")\n",
        "print(f\"Number of samples required: {N}\")\n",
        "\n"
      ]
    },
    {
      "cell_type": "markdown",
      "metadata": {
        "id": "KaBNHj3zgq-Y"
      },
      "source": [
        "## <font color=#46769B>Problem 4: Sampling from normal distributions</font>\n",
        "\n",
        "Write a code that performs the following tasks:\n",
        "- Generate $N = 10^4$ samples for $x$ from a normal distribution $\\mathcal{N}(\\mu,\\sigma)$, where $\\mu = 3$ and $\\sigma = 1$.\n",
        "- Calculate and print the mean $\\langle x \\rangle$ and standard deviation $\\Delta x$, and compare to $\\mu$ and $\\sigma$.\n",
        "- Make a histogram plot for your samples for $x$ using `matplotlib.pyplot.hist()`.\n",
        "- On the same plot, plot the normal PDF $\\mathcal{N}(\\mu,\\sigma)$ as a function of $x$.\n",
        "\n",
        "For your plot:\n",
        "- Label your plot with a legend and axis labels\n",
        "- Choose the number of histogram bins appropriately\n",
        "- Normalized the histogram correctly so that your PDF and histogram are in good agreement (set `density=True`)\n"
      ]
    },
    {
      "cell_type": "code",
      "execution_count": null,
      "metadata": {
        "colab": {
          "base_uri": "https://localhost:8080/",
          "height": 485
        },
        "id": "0mfoOgDJgq-Z",
        "outputId": "85f64be1-86c4-4dd8-beef-db6abe01a8ce"
      },
      "outputs": [
        {
          "output_type": "stream",
          "name": "stdout",
          "text": [
            "Mean of x: 2.99807838855384\n",
            "Standard deviation of x: 0.9872638353197902\n"
          ]
        },
        {
          "output_type": "display_data",
          "data": {
            "text/plain": [
              "<Figure size 640x480 with 1 Axes>"
            ],
            "image/png": "[encoded data removed]"
          },
          "metadata": {}
        }
      ],
      "source": [
        "import numpy as np\n",
        "import matplotlib.pyplot as plt\n",
        "\n",
        "N, mu, sigma = 10**4, 3, 1\n",
        "x_samples = np.random.normal(mu, sigma, N)\n",
        "mean_x, std_dev_x = np.mean(x_samples), np.std(x_samples)\n",
        "print(f\"Mean of x: {mean_x}\\nStandard deviation of x: {std_dev_x}\")\n",
        "\n",
        "plt.hist(x_samples, bins=20, density=True, alpha=0.65, label=\"Sampled Data\")\n",
        "\n",
        "x_range = np.linspace(mu - 4*sigma, mu + 4*sigma, 100)\n",
        "\n",
        "plt.plot(x_range, np.exp(-((x_range - mu)**2) / (2 * sigma**2)) / (sigma * np.sqrt(2 * np.pi)), 'r-', label=\"Normal PDF\")\n",
        "\n",
        "plt.xlabel(\"x\")\n",
        "plt.ylabel(\"Probability Density\")\n",
        "plt.legend()\n",
        "plt.show()\n",
        "\n"
      ]
    }
  ],
  "metadata": {
    "kernelspec": {
      "display_name": "Python 3",
      "language": "python",
      "name": "python3"
    },
    "language_info": {
      "codemirror_mode": {
        "name": "ipython",
        "version": 3
      },
      "file_extension": ".py",
      "mimetype": "text/x-python",
      "name": "python",
      "nbconvert_exporter": "python",
      "pygments_lexer": "ipython3",
      "version": "3.7.6"
    },
    "colab": {
      "provenance": [],
      "include_colab_link": true
    }
  },
  "nbformat": 4,
  "nbformat_minor": 0
}