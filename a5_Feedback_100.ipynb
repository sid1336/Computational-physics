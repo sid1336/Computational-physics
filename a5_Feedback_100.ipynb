{
  "cells": [
    {
      "cell_type": "markdown",
      "metadata": {
        "id": "view-in-github",
        "colab_type": "text"
      },
      "source": [
        "<a href=\"https://colab.research.google.com/github/sid1336/Computational-physics/blob/main/a5_Feedback_100.ipynb\" target=\"_parent\"><img src=\"https://colab.research.google.com/assets/colab-badge.svg\" alt=\"Open In Colab\"/></a>"
      ]
    },
    {
      "cell_type": "markdown",
      "metadata": {
        "id": "n1thbBHx8sMN"
      },
      "source": [
        "utkarsh sachdeva\n",
        "<br>\n",
        "Due date: Feb. 13, 2024, 11:59pm\n",
        "<br>\n",
        "PHYS 2030 W24\n"
      ]
    },
    {
      "cell_type": "markdown",
      "metadata": {
        "id": "5ZIWV4ar8sMP"
      },
      "source": [
        "# <center><font color=#46769B>Homework assignment 5</font></center>\n",
        "\n",
        "__Rubric (100 points total)__:\n",
        "\n",
        "- Problem 1 - 50/__50 points__\n",
        "     \n",
        "- Problem 2 - 50/__50 points__\n",
        "     \n",
        "</font>"
      ]
    },
    {
      "cell_type": "markdown",
      "metadata": {
        "id": "yf7OOPZJ8sMP"
      },
      "source": [
        "## <font color=#46769B>Introduction:</font>\n",
        "\n",
        "This assignment continues the discussion of fiting rotation curve data from astronomical observations of dwarf galaxies to determine their dark matter mass content. Here we introduce two new techniques which can improve your Monte Carlo sampling analysis:\n",
        "\n",
        "- Redefining sampling variables\n",
        "\n",
        "- Sampling from multivariate proposal distributions to account for correlation in the variables\n",
        "\n",
        "Our goals for this notebook are:\n",
        "- Gain more experience with data fitting and importance sampling\n",
        "\n",
        "Required reading:\n",
        "- *Lesson 5: Multivariate distributions*\n"
      ]
    },
    {
      "cell_type": "markdown",
      "metadata": {
        "id": "nUqCsWju8sMP"
      },
      "source": [
        "## <center><font color=#46769B>Problem 1: Dark matter in dwarf galaxies</font></center>\n",
        "\n",
        "### <font color=#46769B>Introduction</font>\n",
        "\n",
        "In this problem, we will consider astrophysical data obtained by radio-wave observations of *another* nearby dwarf galaxy, IC2574, by [The HI Near Galaxy Survey (THINGS)](https://www2.mpia-hd.mpg.de/THINGS/Overview.html). Here is a picture of the galaxy IC2574, also known as Coddington's Nebula:\n",
        "<div>\n",
        "<img src=\"https://github.com/PHYS-2030-Computational-Methods/Lecture-notes/raw/main/figures/IC2574.jpg\" width=\"300\">\n",
        "    <center><i>Figure credit: Stephen Leshin</i></center>\n",
        "</div>\n",
        "\n",
        "The *luminous* matter (stuff made from atoms) makes up around $4 \\times 10^9 \\; M_\\odot$ of stars and gas. By fitting the rotation curve data, we will show that the *total* matter has a larger mass $M_{\\rm tot}$. Therefore, the galaxy is mostly made up of dark matter, which cannot be seen directly but is inferred through its gravitational pull.\n",
        "\n",
        "Much of the tasks here will be similar to Exercise 5. We will use the same model for circular velocity\n",
        "\n",
        "$$v(r,M_{\\rm tot},R_s) = \\sqrt{ \\frac{G M_{\\rm tot} r^2}{(r + R_s)^3 } } \\, . \\qquad (1)$$\n",
        "\n",
        "where $M_{\\rm tot},R_s$ are the two unknown parameters that we will fit by Monte Carlo sampling.\n",
        "\n",
        "Here, however, we will introduce a new and useful trick: *redefine your variables before you sample*. This solves a few issues you encountered in Exercise 5.\n",
        "\n",
        "Before we discuss this, let's first load and plot the data for IC2574."
      ]
    },
    {
      "cell_type": "code",
      "execution_count": null,
      "metadata": {
        "colab": {
          "base_uri": "https://localhost:8080/",
          "height": 472
        },
        "id": "xKJB3GbE8sMQ",
        "outputId": "bb1969b8-a50d-478a-84ab-294466a4a3f4"
      },
      "outputs": [
        {
          "data": {
            "image/png": "[encoded data removed]",
            "text/plain": [
              "<Figure size 432x288 with 1 Axes>"
            ]
          },
          "metadata": {
            "needs_background": "light"
          },
          "output_type": "display_data"
        }
      ],
      "source": [
        "import numpy as np\n",
        "import matplotlib.pyplot as plt\n",
        "\n",
        "# Newton's constant\n",
        "G = 4.3e-6\n",
        "\n",
        "# Data\n",
        "\n",
        "# radius (kpc)\n",
        "radius = np.array([ 0.465421,  1.39626 ,  2.3271  ,  3.25794 ,  4.18879 ,  5.11963 ,\n",
        "                    6.05047 ,  6.98131 ,  7.91215 ,  8.84299 ,  9.77383 , 10.7047  ,\n",
        "                   11.6355  , 12.5664  ])\n",
        "\n",
        "# mean circular velocity v (km/s)\n",
        "mu = np.array([ 8.87, 20.15, 27.63, 34.81, 42.97, 49.89, 55.38, 64.56, 69.26,\n",
        "               72.2 , 75.03, 75.13, 76.04, 78.38])\n",
        "\n",
        "# error for circular velocity v (km/s)\n",
        "sigma = np.array([4.32, 6.81, 4.28, 3.79, 4.24, 5.15, 3.54, 3.81, 4.  , 4.84, 5.3 ,\n",
        "                  4.79, 4.04, 4.55])\n",
        "\n",
        "plt.errorbar(radius,mu,yerr=sigma,fmt='.',label='IC2574 data')\n",
        "plt.xlabel('Radius (kpc)')\n",
        "plt.ylabel('Circular velocity (km/s)')\n",
        "plt.title('Rotation curve')\n",
        "\n",
        "plt.legend()\n",
        "plt.show()"
      ]
    },
    {
      "cell_type": "markdown",
      "metadata": {
        "id": "eJHOOUBE8sMR"
      },
      "source": [
        "### <font color=#46769B>Trick: Redefine your variables</font>\n",
        "\n",
        "We encountered a few issues in Exercise 5:\n",
        "\n",
        "- One issue was that $M_{\\rm tot}$ was many orders of magnitude larger than $R_s$. This made it a little tricky to tune your proposal distribution. It is easier if all your samples are $\\mathcal{O}(1)$ numbers.\n",
        "\n",
        "- A second issue was that negative values of $M_{\\rm tot}$ or $R_s$ could cause an error `invalid value encountered in sqrt`. You could fix this by imposing $P(M_{\\rm tot},R_s) = 0$ if $M_{\\rm tot} < 0$ or $R_s < 0$. But it is easier if your sampling can exclude these values *automatically*.\n",
        "\n",
        "Let's now define a new set of variables $x,y$ as follows:\n",
        "\n",
        "$$x = \\log_{10}(R_s) \\, , \\quad y = \\log_{10}(M_{\\rm tot})$$\n",
        "\n",
        "or equivalently\n",
        "\n",
        "$$M_{\\rm tot} = 10^y \\, , \\quad R_s = 10^x $$\n",
        "\n",
        "The advantage here is that $x$ and $y$ will not be different by many, many orders of magnitude. Also, $M_{\\rm tot}$ and $R_s$ will always be positive for *any* values of $x,y$ (even if they are negative).\n",
        "\n",
        "In terms of $x,y$, our circular velocity model in Eq. (1) is now\n",
        "\n",
        "$$v(r,x,y) = \\sqrt{ \\frac{G r^2 10^y}{(r + 10^x)^3 } } \\, . \\qquad (2)$$\n",
        "\n",
        "The (unnormalized) target distribution is\n",
        "\n",
        "$$P(x,y) = e^{-\\tfrac{1}{2} \\chi^2(x,y)} \\, .$$\n",
        "\n",
        "where\n",
        "\n",
        "$$\\chi^2(x,y) = \\sum_{k=1}^n \\frac{(v(r_k,x,y) - \\mu_k)^2}{\\sigma_k^2}$$\n",
        "\n",
        "where the $\\mu_k$ and $\\sigma_k$ are the circular velocity central values `mu` and errors `sigma` corresponding to the data and the circular velocity is evaluated at the $r$-values of the data points (`radius`), given above."
      ]
    },
    {
      "cell_type": "markdown",
      "metadata": {
        "id": "MEVezRzj8sMR"
      },
      "source": [
        "### <font color=#46769B>Problem</font>\n",
        "\n",
        "Here you will use importance sampling to fit the rotation curve data for IC2574. You will sample $x,y$ from a proposal distribution $Q(x,y)$ that is a product of univariate normal distributions, i.e.,\n",
        "\n",
        "$$Q(x,y) = Q_x(x) Q_y(y)$$\n",
        "\n",
        "where\n",
        "\n",
        "$$Q_x(x) = \\mathcal{N}(\\mu_x,\\sigma_x) \\, , \\quad Q_y(y) = \\mathcal{N}(\\mu_y,\\sigma_y)$$\n",
        "\n",
        "where you are free to choose the parameters $\\mu_x, \\sigma_x, \\mu_y, \\sigma_y$.\n",
        "\n",
        "Similar to Exercise 5, perform the following tasks:\n",
        "\n",
        "- Define the target distribution $P(x,y)$ (using a `def` statement).\n",
        "\n",
        "- Define the proposal distribution $Q(x,y)$ (using a `def` statement).\n",
        "\n",
        "- Generate $N = 10^6$ samples for $x, y$ from $Q$.\n",
        "\n",
        "- Calculate the weights $w = P(x,y)/Q(x,y)$. Then normalize your weights since your target distribution was not normalized.\n",
        "\n",
        "- Plot a weighted 2D histogram for $x$ on the $x$-axis and $y$ on the $y$ axis. Label your axes, and choose a suitable number of bins.\n",
        "\n",
        "- Using your samples for $x,y$, obtain samples for $M_{\\rm tot}$ and $R_s$. Plot a weighted 2D histogram for $R_s$ on the $x$-axis and $M_{\\rm tot}$ on the $y$ axis. Label your axes, and choose a suitable number of bins.\n",
        "\n",
        "- Determine the mean $\\langle M_{\\rm tot} \\rangle$ and error on the mean $E_{M_{\\rm tot}}$. Add a comment on how your value compares to the luminous mass of IC2574.\n",
        "\n",
        "- Calculate (and print) the weighted covariance matrix $C$ for your samples for $x,y$, i.e.,\n",
        "\n",
        "$$C = \\left( \\begin{array} \\Delta x^2 & \\Delta xy \\\\ \\Delta xy & \\Delta y^2 \\end{array} \\right)$$\n",
        "\n",
        "- Calculate (and print) a vector (list or array) with your weighted means $(\\langle x \\rangle, \\langle y \\rangle)$.\n",
        "\n",
        "You will probably need to revise your proposal distribution a few times (by changing $\\mu_x$, $\\sigma_x$, $\\mu_y$, $\\sigma_y$) until you get good results. You may try $\\mu_x = 1$, $\\sigma_x = 1$, $\\mu_y = 11$, $\\sigma_y = 1$ as a starting point. Also, it is helpful to choose a smaller number of samples $N$ while you are getting everything to work."
      ]
    },
    {
      "cell_type": "code",
      "execution_count": null,
      "metadata": {
        "colab": {
          "base_uri": "https://localhost:8080/",
          "height": 1000
        },
        "id": "3Eu2pxEEEVXu",
        "outputId": "9fe44736-6764-47a1-bf3b-e4ddf65b80d7"
      },
      "outputs": [
        {
          "data": {
            "image/png": "[encoded data removed]",
            "text/plain": [
              "<Figure size 432x432 with 2 Axes>"
            ]
          },
          "metadata": {
            "needs_background": "light"
          },
          "output_type": "display_data"
        },
        {
          "data": {
            "image/png": "[encoded data removed]",
            "text/plain": [
              "<Figure size 432x288 with 2 Axes>"
            ]
          },
          "metadata": {
            "needs_background": "light"
          },
          "output_type": "display_data"
        },
        {
          "name": "stdout",
          "output_type": "stream",
          "text": [
            "Mean and STD of Mtot is 257931564117.4378±60136659439.54846\n",
            "The ratio between Mtot calculated and the luminous mass of IC2574 is 0.01550798954632313\n",
            "Weighted Mean Vector: (1.231278431812548, 11.398049516469209)\n",
            "Weighted Covariance Matrix: [[0.00144923 0.00282738]\n",
            " [0.00282738 0.00581494]]\n"
          ]
        }
      ],
      "source": [
        "N_samples = 10**6\n",
        "mu_x_val = 1.25\n",
        "sigma_x_val = 0.1\n",
        "mu_y_val = 11.4\n",
        "sigma_y_val = 0.1\n",
        "\n",
        "def chi_sq(x, y):\n",
        "    r = radius\n",
        "    V = np.sqrt(G * r**2 * 10**y / (r + 10**x)**3)\n",
        "    return np.sum((V - mu)**2 / sigma**2)\n",
        "\n",
        "def P(x, y):\n",
        "    if (x > 0) and (y > 0):\n",
        "        return np.exp(-0.5 * chi_sq(x, y))\n",
        "    else:\n",
        "        return 0\n",
        "\n",
        "def Qx():\n",
        "    return np.random.normal(mu_x_val, sigma_x_val, N_samples)\n",
        "\n",
        "def Qy():\n",
        "    return np.random.normal(mu_y_val, sigma_y_val, N_samples)\n",
        "\n",
        "x_samples, y_samples = Qx(), Qy()\n",
        "\n",
        "P_vectorized = np.vectorize(P)\n",
        "chi_sq_vectorized = np.vectorize(chi_sq)\n",
        "\n",
        "weight = P_vectorized(x_samples, y_samples) / (Qy() * Qx())\n",
        "w = weight / np.mean(weight)\n",
        "Mtot_samples = 10**y_samples\n",
        "Rs_samples = 10**x_samples\n",
        "\n",
        "plt.figure(figsize=(6, 6))\n",
        "plt.hist2d(x_samples, y_samples, density=True, weights=w, bins=[80, 80])\n",
        "plt.xlabel('Rs')\n",
        "plt.ylabel('Mtot')\n",
        "plt.colorbar()\n",
        "plt.show()\n",
        "\n",
        "plt.figure(figsize=(6, 4))\n",
        "plt.hist2d(Rs_samples, Mtot_samples, density=True, weights=w, bins=[80, 80])\n",
        "plt.xlabel('Radius scale')\n",
        "plt.ylabel('Mass total ')\n",
        "plt.colorbar()\n",
        "plt.show()\n",
        "\n",
        "mean_Mtot = np.mean(Mtot_samples)\n",
        "std_Mtot = np.std(Mtot_samples)\n",
        "print(f'Mean and STD of Mtot is {mean_Mtot}±{std_Mtot}')\n",
        "print(f'The ratio between Mtot calculated and the luminous mass of IC2574 is {(4*10**9)/mean_Mtot}')\n",
        "\n",
        "def weighted_mean_vector(x, y, w):\n",
        "    xm = np.sum(x * w) / np.sum(w)\n",
        "    ym = np.sum(y * w) / np.sum(w)\n",
        "    return xm, ym\n",
        "\n",
        "def weighted_covariance(x, y, w):\n",
        "    xm = np.sum(x * w) / np.sum(w)\n",
        "    ym = np.sum(y * w) / np.sum(w)\n",
        "\n",
        "    cov = np.sum(w * (x - xm) * (y - ym)) / np.sum(w)\n",
        "\n",
        "    return np.array([[np.sum(w * (x - xm)**2) / np.sum(w), cov], [cov, np.sum(w * (y - ym)**2) / np.sum(w)]])\n",
        "\n",
        "# Evaluate and print results\n",
        "mean_vector_samples = weighted_mean_vector(x_samples, y_samples, w)\n",
        "covariance_matrix_samples = weighted_covariance(x_samples, y_samples, w)\n",
        "\n",
        "print(f'Weighted Mean Vector: {mean_vector_samples}')\n",
        "print(f'Weighted Covariance Matrix: {covariance_matrix_samples}')\n"
      ]
    },
    {
      "cell_type": "markdown",
      "metadata": {
        "id": "z90HyAu08sMS"
      },
      "source": [
        "## <font color=#46769B>Problem 2: Sampling from multivariate distributions</font>\n",
        "\n",
        "### <font color=#46769B>Introduction</font>\n",
        "\n",
        "In Problem 1, we chose a multivariate proposal distribution $Q(x,y)$ that factorized as the product of two univariate distributions $Q_x(x) Q_y(y)$, each of which was sampled independently. That is, our sampling assumed that $x$ and $y$ were *uncorrelated*.\n",
        "\n",
        "However, your 2D histogram from Problem 1 should show that $x$ and $y$ *are* indeed correlated, i.e., the preferred region lies along a diagonal line, and when you calculated the covariance matrix $C$, you found the off-diagonal element was not zero. This is due to the fact that $x$ and $y$ *are correlated in the target distribution*.\n",
        "\n",
        "If quantities in the target distribution are correlated, it can improve your sampling to include a similar correlation in your proposal distribution. Here we will show how to accomplish this.\n",
        "\n",
        "### <font color=#46769B>Problem</font>\n",
        "\n",
        "Perform the following tasks:\n",
        "\n",
        "- Define (using a `def` statement) a multivariate normal distribution $Q(x,y)$ that has a mean vector $\\vec{\\mu}$ and covariance matrix $C$. For $\\vec{\\mu}$ and $C$, define them to be the vector of means and covariance matrix $C$ you calculated in Problem 1.\n",
        "\n",
        "- Generate $N=10^6$ samples for $x$ and $y$ from a multivariate normal distribution using `numpy.random.multivariate_normal(mu,C,num)` where `mu` is the two-component object $\\vec{\\mu}$ and `C` is the $2 \\times 2$ covariance matrix $C$, and `num` is the number of samples $N$.\n",
        "\n",
        "- Calculate the weights $w = P(x,y)/Q(x,y)$, where the target PDF $P$ is the same as in Problem 1. Normalize the weights.\n",
        "\n",
        "- Plot a weighted 2D histogram for $x$ on the $x$-axis and $y$ on the $y$ axis. Label your axes, and choose a suitable number of bins.\n",
        "\n",
        "- Using your samples for $x,y$, obtain samples for $M_{\\rm tot}$ and $R_s$. Plot a weighted 2D histogram for $R_s$ on the $x$-axis and $M_{\\rm tot}$ on the $y$ axis. Label your axes, and choose a suitable number of bins.\n",
        "\n",
        "- Determine the mean $\\langle M_{\\rm tot} \\rangle$ and error on the mean $E_{\\rm M_{\\rm tot}}$.\n",
        "\n",
        "Finally, let's check which proposal distribution did a better job. You might notice that your histogram in Problem 1 looks a bit noisier than the one here in Problem 2. In Assignment 4, we argued you can evaluate `numpy.var(w*f(x))` to compare different proposal distributions in calculating some quantity $\\langle f (x) \\rangle$. Here, let's replace $f(x)$ with $M_{\\rm tot} = 10^y$ to compare our proposal distributions in calculating $M_{\\rm tot}$.\n",
        "\n",
        "- Compute `numpy.var(w*10**y)` using your samples for $y$ and weights `w` from Problem 1 and also using the samples `y` and weights `w` found here in Problem 2. You should find a smaller value for the latter, which says that you have chosen a better proposal distribution here in Problem 2."
      ]
    },
    {
      "cell_type": "code",
      "execution_count": null,
      "metadata": {
        "colab": {
          "base_uri": "https://localhost:8080/",
          "height": 1000
        },
        "id": "laTIze7u8sMS",
        "outputId": "1b7f9b70-7aaa-41e3-cd07-11295ff6945c"
      },
      "outputs": [
        {
          "data": {
            "image/png": "[encoded data removed]",
            "text/plain": [
              "<Figure size 432x432 with 2 Axes>"
            ]
          },
          "metadata": {
            "needs_background": "light"
          },
          "output_type": "display_data"
        },
        {
          "data": {
            "image/png": "[encoded data removed]",
            "text/plain": [
              "<Figure size 648x432 with 2 Axes>"
            ]
          },
          "metadata": {
            "needs_background": "light"
          },
          "output_type": "display_data"
        },
        {
          "name": "stdout",
          "output_type": "stream",
          "text": [
            "Variance from Problem 1: 3616417808.548233\n",
            "Variance from Problem 2: 2014187218.8527553\n",
            "Mean and error on the mean of Mtot: 253942959235.91348 ± 44879697.1787105\n"
          ]
        }
      ],
      "source": [
        "N_samples_Q = 10**6\n",
        "mu_x_Q = 1.25\n",
        "sigma_x_Q = 0.1\n",
        "mu_y_Q = 11.4\n",
        "sigma_y_Q = 0.1\n",
        "\n",
        "def Q_distribution_samples(N):\n",
        "    C_Q = covariance_matrix_samples\n",
        "    mu_Q = mean_vector_samples\n",
        "    samples_Q = np.random.multivariate_normal(mu_Q, C_Q, N)\n",
        "    return samples_Q\n",
        "\n",
        "weights_Q_samples = np.ones(N_samples_Q)\n",
        "\n",
        "samples_Q_samples = Q_distribution_samples(N_samples_Q)\n",
        "wQ_samples = weights_Q_samples / np.sum(weights_Q_samples)\n",
        "\n",
        "plt.figure(figsize=(6, 6))\n",
        "plt.hist2d(samples_Q_samples[:, 0], samples_Q_samples[:, 1], density=True, weights=wQ_samples, bins=[100, 100])\n",
        "plt.xlabel('Rs')\n",
        "plt.ylabel('Mtot')\n",
        "plt.title('Weighted 2D Histogram for Q(x, y)')\n",
        "plt.colorbar()\n",
        "plt.show()\n",
        "\n",
        "Mtot_samples_Q = 10**samples_Q_samples[:, 1]\n",
        "Rs_samples_Q = 10**samples_Q_samples[:, 0]\n",
        "\n",
        "plt.figure(figsize=(9, 6))\n",
        "plt.hist2d(Rs_samples_Q, Mtot_samples_Q, density=True, weights=wQ_samples, bins=[100, 100])\n",
        "plt.xlabel('Rs')\n",
        "plt.ylabel('Mtot')\n",
        "plt.title('Weighted 2D Histogram for Rs and Mtot')\n",
        "plt.colorbar()\n",
        "plt.show()\n",
        "\n",
        "Mtot_mean_Q = np.mean(Mtot_samples_Q)\n",
        "Mtot_std_Q = np.std(Mtot_samples_Q) / np.sqrt(N_samples_Q)\n",
        "variance_1_Q = np.var(wQ_samples * 10**y_samples)\n",
        "variance_2_Q = np.var(wQ_samples * 10**samples_Q_samples[:, 1])\n",
        "\n",
        "print(f'Variance from Problem 1: {variance_1_Q}')\n",
        "print(f'Variance from Problem 2: {variance_2_Q}')\n",
        "print(f'Mean and error on the mean of Mtot: {Mtot_mean_Q} ± {Mtot_std_Q}')\n"
      ]
    }
  ],
  "metadata": {
    "colab": {
      "provenance": [],
      "include_colab_link": true
    },
    "kernelspec": {
      "display_name": "Python 3",
      "language": "python",
      "name": "python3"
    },
    "language_info": {
      "codemirror_mode": {
        "name": "ipython",
        "version": 3
      },
      "file_extension": ".py",
      "mimetype": "text/x-python",
      "name": "python",
      "nbconvert_exporter": "python",
      "pygments_lexer": "ipython3",
      "version": "3.7.6"
    }
  },
  "nbformat": 4,
  "nbformat_minor": 0
}